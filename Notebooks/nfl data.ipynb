{
  "cells": [
    {
      "cell_type": "code",
      "id": "w7rHno2RbGzDrB2nwGG8qCcW",
      "metadata": {
        "tags": [],
        "id": "w7rHno2RbGzDrB2nwGG8qCcW",
        "executionInfo": {
          "status": "ok",
          "timestamp": 1755527148601,
          "user_tz": 360,
          "elapsed": 246,
          "user": {
            "displayName": "",
            "userId": ""
          }
        }
      },
      "source": [
        "# pip install nfl_data_py"
      ],
      "execution_count": 1,
      "outputs": []
    },
    {
      "cell_type": "code",
      "source": [
        "# # Install a set of mutually compatible versions\n",
        "# %pip install -qU \\\n",
        "#   \"pandas==2.2.2\" \"numpy==2.0.2\" \"xarray==2024.06.0\" \\\n",
        "#   \"scikit-learn==1.6.1\" \"pyarrow==19.*\" \\\n",
        "#   lightgbm rapidfuzz pandas-gbq google-cloud-bigquery\n",
        "\n",
        "# # Programmatically restart the kernel so the new versions actually load\n",
        "# import IPython\n",
        "# IPython.Application.instance().kernel.do_shutdown(True)"
      ],
      "metadata": {
        "id": "Ivovogg3GTVi",
        "executionInfo": {
          "status": "ok",
          "timestamp": 1755527149604,
          "user_tz": 360,
          "elapsed": 155,
          "user": {
            "displayName": "",
            "userId": ""
          }
        }
      },
      "id": "Ivovogg3GTVi",
      "execution_count": 2,
      "outputs": []
    },
    {
      "cell_type": "code",
      "source": [
        "import nfl_data_py as nfl\n",
        "import pandas as pd, numpy as np, xarray as xr\n",
        "from sklearn.model_selection import train_test_split\n",
        "from sklearn.preprocessing import OneHotEncoder\n",
        "from sklearn.compose import ColumnTransformer\n",
        "from sklearn.pipeline import Pipeline\n",
        "from sklearn.metrics import accuracy_score, roc_auc_score, mean_absolute_error\n",
        "from lightgbm import LGBMClassifier, LGBMRegressor\n",
        "\n",
        "from google.cloud import bigquery\n",
        "import pandas_gbq\n",
        "\n",
        "print(\"pandas:\", pd.__version__, \"| numpy:\", np.__version__, \"| xarray:\", xr.__version__)\n"
      ],
      "metadata": {
        "colab": {
          "base_uri": "https://localhost:8080/"
        },
        "id": "OePd0D4znD1H",
        "executionInfo": {
          "status": "ok",
          "timestamp": 1755527155979,
          "user_tz": 360,
          "elapsed": 4782,
          "user": {
            "displayName": "",
            "userId": ""
          }
        },
        "outputId": "b5210ebe-59ac-4ba2-b8b0-6fc021a7c73a"
      },
      "id": "OePd0D4znD1H",
      "execution_count": 3,
      "outputs": [
        {
          "output_type": "stream",
          "name": "stdout",
          "text": [
            "pandas: 2.2.2 | numpy: 2.0.2 | xarray: 2024.6.0\n"
          ]
        }
      ]
    },
    {
      "cell_type": "code",
      "source": [
        "# list(nfl.see_pbp_cols())"
      ],
      "metadata": {
        "id": "dKU13Behn36A",
        "executionInfo": {
          "status": "ok",
          "timestamp": 1755527158403,
          "user_tz": 360,
          "elapsed": 258,
          "user": {
            "displayName": "",
            "userId": ""
          }
        }
      },
      "id": "dKU13Behn36A",
      "execution_count": 4,
      "outputs": []
    },
    {
      "cell_type": "code",
      "source": [
        "years = list(range(2019, 2024))  # expand to 1999–2024 later if you want\n",
        "base_cols = [\n",
        "    \"play_id\",\"game_id\",\"season\",\"season_type\",\"week\",\"game_date\",\n",
        "    \"home_team\",\"away_team\",\"posteam\",\"defteam\",\"posteam_type\",\n",
        "    \"qtr\",\"down\",\"ydstogo\",\"yardline_100\",\"goal_to_go\",\n",
        "    \"time\",\"game_seconds_remaining\",\"score_differential\",\n",
        "    \"shotgun\",\"no_huddle\",\"qb_dropback\",\"xpass\",\n",
        "    \"play_type\",\"yards_gained\",\"epa\",\"success\",\n",
        "    \"home_score\",\"away_score\",\"home_wp\",\"away_wp\",\"home_wp_post\",\"away_wp_post\",\n",
        "    \"vegas_wp\",\"vegas_home_wp\",\"spread_line\",\"total_line\",\"result\"\n",
        "]\n",
        "\n",
        "pbp = nfl.import_pbp_data(\n",
        "    years=years,\n",
        "    columns=base_cols,\n",
        "    downcast=True,   # saves memory\n",
        "    cache=False,     # set True after first run if you want faster reloads\n",
        "    alt_path=None    # set if you cached elsewhere via nfl.cache_pbp()\n",
        ")\n",
        "pbp.shape, pbp.head(3)\n"
      ],
      "metadata": {
        "colab": {
          "base_uri": "https://localhost:8080/"
        },
        "id": "4TbOBeJxnFrL",
        "executionInfo": {
          "status": "ok",
          "timestamp": 1755527166115,
          "user_tz": 360,
          "elapsed": 5098,
          "user": {
            "displayName": "",
            "userId": ""
          }
        },
        "outputId": "36f2af43-37a1-46e1-f1d6-9c590315bd02"
      },
      "id": "4TbOBeJxnFrL",
      "execution_count": 5,
      "outputs": [
        {
          "output_type": "stream",
          "name": "stdout",
          "text": [
            "2019 done.\n",
            "2020 done.\n",
            "2021 done.\n",
            "2022 done.\n",
            "2023 done.\n",
            "Downcasting floats.\n"
          ]
        },
        {
          "output_type": "execute_result",
          "data": {
            "text/plain": [
              "((243986, 58),\n",
              "    play_id          game_id season_type  week   game_date home_team away_team  \\\n",
              " 0      1.0  2019_01_ATL_MIN         REG     1  2019-09-08       MIN       ATL   \n",
              " 1     36.0  2019_01_ATL_MIN         REG     1  2019-09-08       MIN       ATL   \n",
              " 2     51.0  2019_01_ATL_MIN         REG     1  2019-09-08       MIN       ATL   \n",
              " \n",
              "   posteam defteam posteam_type  ...  \\\n",
              " 0    None    None         None  ...   \n",
              " 1     ATL     MIN         away  ...   \n",
              " 2     ATL     MIN         away  ...   \n",
              " \n",
              "                                      offense_players  \\\n",
              " 0                                                      \n",
              " 1  00-0035150;00-0033336;00-0032918;00-0032422;00...   \n",
              " 2  00-0035235;00-0028042;00-0031279;00-0026997;00...   \n",
              " \n",
              "                                      defense_players  n_offense  n_defense  \\\n",
              " 0                                                           0.0        0.0   \n",
              " 1  00-0034411;00-0031570;00-0028042;00-0030968;00...       11.0       11.0   \n",
              " 2  00-0031256;00-0027885;00-0031546;00-0027701;00...       11.0       11.0   \n",
              " \n",
              "    ngs_air_yards time_to_throw  was_pressure  route  defense_man_zone_type  \\\n",
              " 0            NaN           NaN          None   None                   None   \n",
              " 1            NaN           NaN          None   None                   None   \n",
              " 2            NaN           NaN          None   None                   None   \n",
              " \n",
              "    defense_coverage_type  \n",
              " 0                   None  \n",
              " 1                   None  \n",
              " 2                   None  \n",
              " \n",
              " [3 rows x 58 columns])"
            ]
          },
          "metadata": {},
          "execution_count": 5
        }
      ]
    },
    {
      "cell_type": "code",
      "source": [
        "# Create a simplified target\n",
        "def simplify_play_type(pt):\n",
        "    if pt in [\"pass\", \"run\"]:\n",
        "        return pt\n",
        "    if pt in [\"punt\", \"field_goal\",\"qb_kneel\",\"qb_spike\"]:\n",
        "        return pt\n",
        "    return \"other\"\n",
        "\n",
        "pbp[\"play_type_simple\"] = pbp[\"play_type\"].fillna(\"other\").map(simplify_play_type)\n",
        "\n",
        "# Keep pre-snap features only (avoid yards_gained, epa, *_post, etc. as predictors)\n",
        "feat_cols = [\n",
        "    \"season\",\"week\",\"qtr\",\"down\",\"ydstogo\",\"yardline_100\",\"goal_to_go\",\n",
        "    \"game_seconds_remaining\",\"score_differential\",\n",
        "    \"shotgun\",\"no_huddle\",\"qb_dropback\",\"xpass\",\n",
        "    \"posteam\",\"defteam\",\"home_team\",\"away_team\",\"posteam_type\"\n",
        "]\n",
        "X = pbp[feat_cols].copy()\n",
        "y = pbp[\"play_type_simple\"]\n",
        "\n",
        "# Train/val split by SEASON to reduce leakage (train prior seasons, test last season)\n",
        "train = pbp[\"season\"] < max(pbp[\"season\"])\n",
        "X_train, X_test = X[train], X[~train]\n",
        "y_train, y_test = y[train], y[~train]\n",
        "\n",
        "num_cols = [\"season\",\"week\",\"qtr\",\"down\",\"ydstogo\",\"yardline_100\",\"goal_to_go\",\n",
        "            \"game_seconds_remaining\",\"score_differential\",\"shotgun\",\"no_huddle\",\"qb_dropback\",\"xpass\"]\n",
        "cat_cols = [\"posteam\",\"defteam\",\"home_team\",\"away_team\",\"posteam_type\"]\n",
        "\n",
        "pre = ColumnTransformer([\n",
        "    (\"ohe\", OneHotEncoder(handle_unknown=\"ignore\", sparse_output=True), cat_cols)\n",
        "], remainder=\"passthrough\")\n",
        "\n",
        "clf = Pipeline([\n",
        "    (\"pre\", pre),\n",
        "    (\"gbm\", LGBMClassifier(n_estimators=300, learning_rate=0.05, max_depth=-1, n_jobs=-1))\n",
        "])\n",
        "clf.fit(X_train, y_train)\n",
        "\n",
        "pred = clf.predict(X_test)\n",
        "acc = accuracy_score(y_test, pred)\n",
        "print(\"Play-type accuracy:\", round(acc, 3))\n"
      ],
      "metadata": {
        "colab": {
          "base_uri": "https://localhost:8080/"
        },
        "id": "sGCEPshgDqFX",
        "executionInfo": {
          "status": "ok",
          "timestamp": 1755527188371,
          "user_tz": 360,
          "elapsed": 22260,
          "user": {
            "displayName": "",
            "userId": ""
          }
        },
        "outputId": "c63c9ffd-12e2-4ba7-933e-9d0aac96d0e3"
      },
      "id": "sGCEPshgDqFX",
      "execution_count": 6,
      "outputs": [
        {
          "output_type": "stream",
          "name": "stdout",
          "text": [
            "[LightGBM] [Info] Auto-choosing row-wise multi-threading, the overhead of testing was 0.011841 seconds.\n",
            "You can set `force_row_wise=true` to remove the overhead.\n",
            "And if memory is not enough, you can set `force_col_wise=true`.\n",
            "[LightGBM] [Info] Total Bins 1060\n",
            "[LightGBM] [Info] Number of data points in the train set: 194321, number of used features: 146\n",
            "[LightGBM] [Info] Start training from score -3.831099\n",
            "[LightGBM] [Info] Start training from score -1.570137\n",
            "[LightGBM] [Info] Start training from score -0.869007\n",
            "[LightGBM] [Info] Start training from score -3.104122\n",
            "[LightGBM] [Info] Start training from score -4.727769\n",
            "[LightGBM] [Info] Start training from score -6.470156\n",
            "[LightGBM] [Info] Start training from score -1.218509\n",
            "[LightGBM] [Warning] No further splits with positive gain, best gain: -inf\n",
            "[LightGBM] [Warning] No further splits with positive gain, best gain: -inf\n",
            "[LightGBM] [Warning] No further splits with positive gain, best gain: -inf\n",
            "[LightGBM] [Warning] No further splits with positive gain, best gain: -inf\n",
            "[LightGBM] [Warning] No further splits with positive gain, best gain: -inf\n",
            "[LightGBM] [Warning] No further splits with positive gain, best gain: -inf\n",
            "[LightGBM] [Warning] No further splits with positive gain, best gain: -inf\n",
            "[LightGBM] [Warning] No further splits with positive gain, best gain: -inf\n",
            "[LightGBM] [Warning] No further splits with positive gain, best gain: -inf\n",
            "[LightGBM] [Warning] No further splits with positive gain, best gain: -inf\n",
            "[LightGBM] [Warning] No further splits with positive gain, best gain: -inf\n",
            "[LightGBM] [Warning] No further splits with positive gain, best gain: -inf\n",
            "[LightGBM] [Warning] No further splits with positive gain, best gain: -inf\n",
            "[LightGBM] [Warning] No further splits with positive gain, best gain: -inf\n",
            "[LightGBM] [Warning] No further splits with positive gain, best gain: -inf\n",
            "[LightGBM] [Warning] No further splits with positive gain, best gain: -inf\n",
            "[LightGBM] [Warning] No further splits with positive gain, best gain: -inf\n",
            "[LightGBM] [Warning] No further splits with positive gain, best gain: -inf\n",
            "[LightGBM] [Warning] No further splits with positive gain, best gain: -inf\n",
            "[LightGBM] [Warning] No further splits with positive gain, best gain: -inf\n",
            "[LightGBM] [Warning] No further splits with positive gain, best gain: -inf\n",
            "[LightGBM] [Warning] No further splits with positive gain, best gain: -inf\n",
            "[LightGBM] [Warning] No further splits with positive gain, best gain: -inf\n",
            "[LightGBM] [Warning] No further splits with positive gain, best gain: -inf\n",
            "[LightGBM] [Warning] No further splits with positive gain, best gain: -inf\n",
            "[LightGBM] [Warning] No further splits with positive gain, best gain: -inf\n",
            "[LightGBM] [Warning] No further splits with positive gain, best gain: -inf\n",
            "[LightGBM] [Warning] No further splits with positive gain, best gain: -inf\n",
            "[LightGBM] [Warning] No further splits with positive gain, best gain: -inf\n",
            "[LightGBM] [Warning] No further splits with positive gain, best gain: -inf\n",
            "[LightGBM] [Warning] No further splits with positive gain, best gain: -inf\n",
            "[LightGBM] [Warning] No further splits with positive gain, best gain: -inf\n",
            "[LightGBM] [Warning] No further splits with positive gain, best gain: -inf\n",
            "[LightGBM] [Warning] No further splits with positive gain, best gain: -inf\n",
            "[LightGBM] [Warning] No further splits with positive gain, best gain: -inf\n",
            "[LightGBM] [Warning] No further splits with positive gain, best gain: -inf\n",
            "[LightGBM] [Warning] No further splits with positive gain, best gain: -inf\n",
            "[LightGBM] [Warning] No further splits with positive gain, best gain: -inf\n",
            "[LightGBM] [Warning] No further splits with positive gain, best gain: -inf\n",
            "[LightGBM] [Warning] No further splits with positive gain, best gain: -inf\n",
            "[LightGBM] [Warning] No further splits with positive gain, best gain: -inf\n",
            "[LightGBM] [Warning] No further splits with positive gain, best gain: -inf\n",
            "[LightGBM] [Warning] No further splits with positive gain, best gain: -inf\n",
            "[LightGBM] [Warning] No further splits with positive gain, best gain: -inf\n",
            "[LightGBM] [Warning] No further splits with positive gain, best gain: -inf\n",
            "[LightGBM] [Warning] No further splits with positive gain, best gain: -inf\n"
          ]
        },
        {
          "output_type": "stream",
          "name": "stderr",
          "text": [
            "/usr/local/lib/python3.11/dist-packages/sklearn/utils/validation.py:2739: UserWarning: X does not have valid feature names, but LGBMClassifier was fitted with feature names\n",
            "  warnings.warn(\n"
          ]
        },
        {
          "output_type": "stream",
          "name": "stdout",
          "text": [
            "Play-type accuracy: 0.937\n"
          ]
        }
      ]
    },
    {
      "cell_type": "code",
      "source": [
        "y_reg = pbp.loc[train, \"epa\"].fillna(0.0)\n",
        "X_reg = X[train]\n",
        "X_reg_test = X[~train]\n",
        "y_reg_test = pbp.loc[~train, \"epa\"].fillna(0.0)\n",
        "\n",
        "reg = Pipeline([\n",
        "    (\"pre\", pre),\n",
        "    (\"gbm\", LGBMRegressor(n_estimators=500, learning_rate=0.05, num_leaves=63, n_jobs=-1))\n",
        "])\n",
        "reg.fit(X_reg, y_reg)\n",
        "pred_reg = reg.predict(X_reg_test)\n",
        "print(\"Play-level EPA MAE:\", round(mean_absolute_error(y_reg_test, pred_reg), 4))\n"
      ],
      "metadata": {
        "colab": {
          "base_uri": "https://localhost:8080/"
        },
        "id": "OwJVzYYQEaiz",
        "executionInfo": {
          "status": "ok",
          "timestamp": 1755527195174,
          "user_tz": 360,
          "elapsed": 6807,
          "user": {
            "displayName": "",
            "userId": ""
          }
        },
        "outputId": "20e8f2db-0564-449f-bf71-0a37d2de72a5"
      },
      "id": "OwJVzYYQEaiz",
      "execution_count": 7,
      "outputs": [
        {
          "output_type": "stream",
          "name": "stdout",
          "text": [
            "[LightGBM] [Info] Auto-choosing row-wise multi-threading, the overhead of testing was 0.008486 seconds.\n",
            "You can set `force_row_wise=true` to remove the overhead.\n",
            "And if memory is not enough, you can set `force_col_wise=true`.\n",
            "[LightGBM] [Info] Total Bins 1060\n",
            "[LightGBM] [Info] Number of data points in the train set: 194321, number of used features: 146\n",
            "[LightGBM] [Info] Start training from score -0.004828\n"
          ]
        },
        {
          "output_type": "stream",
          "name": "stderr",
          "text": [
            "/usr/local/lib/python3.11/dist-packages/sklearn/utils/validation.py:2739: UserWarning: X does not have valid feature names, but LGBMRegressor was fitted with feature names\n",
            "  warnings.warn(\n"
          ]
        },
        {
          "output_type": "stream",
          "name": "stdout",
          "text": [
            "Play-level EPA MAE: 0.7998\n"
          ]
        }
      ]
    },
    {
      "cell_type": "code",
      "source": [
        "# Game-level frame\n",
        "gcols = [\"game_id\",\"season\",\"week\",\"home_team\",\"away_team\",\"home_score\",\"away_score\",\n",
        "         \"spread_line\",\"total_line\",\"vegas_home_wp\"]\n",
        "g = pbp[gcols].drop_duplicates(\"game_id\").copy()\n",
        "\n",
        "g[\"home_win\"] = (g[\"home_score\"] > g[\"away_score\"]).astype(int)\n",
        "\n",
        "# Add simple rolling team strength (last 3 games offensive EPA)\n",
        "team_off_epa = (\n",
        "    pbp.groupby([\"posteam\",\"game_id\"], as_index=False)[\"epa\"].mean()\n",
        "      .rename(columns={\"posteam\":\"team\",\"epa\":\"team_mean_epa\"})\n",
        ")\n",
        "\n",
        "# Merge home/away rolling EPA (lagged)\n",
        "def make_rolling(ts_df, team_col=\"team\", value_col=\"team_mean_epa\"):\n",
        "    ts_df = ts_df.merge(\n",
        "        pbp[[\"game_id\",\"season\",\"week\"]].drop_duplicates(),\n",
        "        on=\"game_id\", how=\"left\"\n",
        "    ).sort_values([team_col,\"season\",\"week\"])\n",
        "    ts_df[\"team_off_epa_rolling3\"] = (\n",
        "        ts_df.groupby(team_col)[value_col].transform(lambda s: s.shift().rolling(3, min_periods=1).mean())\n",
        "    )\n",
        "    return ts_df[[\"game_id\", team_col, \"team_off_epa_rolling3\"]]\n",
        "\n",
        "roll = make_rolling(team_off_epa)\n",
        "\n",
        "home_strength = roll.rename(columns={\"team\":\"home_team\",\"team_off_epa_rolling3\":\"home_off_epa_r3\"})\n",
        "away_strength = roll.rename(columns={\"team\":\"away_team\",\"team_off_epa_rolling3\":\"away_off_epa_r3\"})\n",
        "\n",
        "g = g.merge(home_strength, on=[\"game_id\",\"home_team\"], how=\"left\") \\\n",
        "     .merge(away_strength, on=[\"game_id\",\"away_team\"], how=\"left\")\n",
        "\n",
        "feat = [\"season\",\"week\",\"spread_line\",\"total_line\",\"vegas_home_wp\",\"home_off_epa_r3\",\"away_off_epa_r3\",\n",
        "        \"home_team\",\"away_team\"]\n",
        "Xg = g[feat].copy()\n",
        "yg = g[\"home_win\"]\n",
        "\n",
        "train_g = g[\"season\"] < max(g[\"season\"])\n",
        "Xg_tr, Xg_te = Xg[train_g], Xg[~train_g]\n",
        "yg_tr, yg_te = yg[train_g], yg[~train_g]\n",
        "\n",
        "pre_g = ColumnTransformer([\n",
        "    (\"ohe\", OneHotEncoder(handle_unknown=\"ignore\", sparse_output=True), [\"home_team\",\"away_team\"])\n",
        "], remainder=\"passthrough\")\n",
        "\n",
        "game_clf = Pipeline([\n",
        "    (\"pre\", pre_g),\n",
        "    (\"gbm\", LGBMClassifier(n_estimators=600, learning_rate=0.03, n_jobs=-1))\n",
        "])\n",
        "game_clf.fit(Xg_tr, yg_tr)\n",
        "proba = game_clf.predict_proba(Xg_te)[:,1]\n",
        "print(\"Game AUC:\", round(roc_auc_score(yg_te, proba), 3))\n",
        "print(\"Game accuracy (0.5 cut):\", round(accuracy_score(yg_te, (proba>=0.5).astype(int)), 3))\n"
      ],
      "metadata": {
        "colab": {
          "base_uri": "https://localhost:8080/"
        },
        "id": "VyFDrntCEbSG",
        "executionInfo": {
          "status": "ok",
          "timestamp": 1755527196775,
          "user_tz": 360,
          "elapsed": 1608,
          "user": {
            "displayName": "",
            "userId": ""
          }
        },
        "outputId": "86b614a4-43f3-4717-93a3-5cd7eb2457c6"
      },
      "id": "VyFDrntCEbSG",
      "execution_count": 8,
      "outputs": [
        {
          "output_type": "stream",
          "name": "stdout",
          "text": [
            "[LightGBM] [Info] Number of positive: 580, number of negative: 525\n",
            "[LightGBM] [Info] Auto-choosing col-wise multi-threading, the overhead of testing was 0.000282 seconds.\n",
            "You can set `force_col_wise=true` to remove the overhead.\n",
            "[LightGBM] [Info] Total Bins 859\n",
            "[LightGBM] [Info] Number of data points in the train set: 1105, number of used features: 71\n",
            "[LightGBM] [Info] [binary:BoostFromScore]: pavg=0.524887 -> initscore=0.099630\n",
            "[LightGBM] [Info] Start training from score 0.099630\n",
            "Game AUC: 0.598\n",
            "Game accuracy (0.5 cut): 0.568\n"
          ]
        },
        {
          "output_type": "stream",
          "name": "stderr",
          "text": [
            "/usr/local/lib/python3.11/dist-packages/sklearn/utils/validation.py:2739: UserWarning: X does not have valid feature names, but LGBMClassifier was fitted with feature names\n",
            "  warnings.warn(\n"
          ]
        }
      ]
    },
    {
      "cell_type": "code",
      "source": [
        "# Attach probabilities to test-season games and simulate\n",
        "test_season = g[\"season\"].max()\n",
        "g_test = g[g[\"season\"]==test_season].copy()\n",
        "\n",
        "Xg_test_only = Xg_te.copy()\n",
        "g_test[\"home_win_prob\"] = proba\n",
        "\n",
        "# Simulate many seasons (assumes schedule completed; works midseason too)\n",
        "N = 2000\n",
        "teams = sorted(set(g_test[\"home_team\"]).union(g_test[\"away_team\"]))\n",
        "wins = pd.DataFrame(0, index=teams, columns=range(N), dtype=int)\n",
        "\n",
        "rng = np.random.default_rng(0)\n",
        "for sim in range(N):\n",
        "    # Simulate each game outcome\n",
        "    r = rng.random(len(g_test))\n",
        "    home_wins = (r < g_test[\"home_win_prob\"]).astype(int)\n",
        "    # Assign wins\n",
        "    for (_, row), hw in zip(g_test.iterrows(), home_wins):\n",
        "        h, a = row[\"home_team\"], row[\"away_team\"]\n",
        "        if hw == 1:\n",
        "            wins.loc[h, sim] += 1\n",
        "        else:\n",
        "            wins.loc[a, sim] += 1\n",
        "\n",
        "season_summary = pd.DataFrame({\n",
        "    \"team\": wins.index,\n",
        "    \"avg_wins\": wins.mean(axis=1),\n",
        "    \"p10_wins\": wins.quantile(0.10, axis=1),\n",
        "    \"p50_wins\": wins.quantile(0.50, axis=1),\n",
        "    \"p90_wins\": wins.quantile(0.90, axis=1),\n",
        "}).sort_values(\"avg_wins\", ascending=False)\n",
        "season_summary.head(10)\n"
      ],
      "metadata": {
        "colab": {
          "base_uri": "https://localhost:8080/",
          "height": 0
        },
        "id": "TWOYyU3SEeDL",
        "executionInfo": {
          "status": "ok",
          "timestamp": 1755527335567,
          "user_tz": 360,
          "elapsed": 138796,
          "user": {
            "displayName": "",
            "userId": ""
          }
        },
        "outputId": "dd305767-9100-4048-ac97-64829b4cf9e1"
      },
      "id": "TWOYyU3SEeDL",
      "execution_count": 9,
      "outputs": [
        {
          "output_type": "execute_result",
          "data": {
            "text/plain": [
              "    team  avg_wins  p10_wins  p50_wins  p90_wins\n",
              "KC    KC   17.6480      16.0      18.0      19.0\n",
              "BUF  BUF   14.6610      13.0      15.0      16.0\n",
              "SF    SF   14.2700      12.0      14.0      16.0\n",
              "MIA  MIA   12.2915      11.0      12.0      14.0\n",
              "BAL  BAL   11.9215      10.0      12.0      14.0\n",
              "DAL  DAL   11.6755      10.0      12.0      13.0\n",
              "DET  DET   11.6505      10.0      12.0      14.0\n",
              "PHI  PHI   11.2770       9.0      11.0      13.0\n",
              "NO    NO   10.9795       9.0      11.0      13.0\n",
              "GB    GB   10.6970       9.0      11.0      13.0"
            ],
            "text/html": [
              "\n",
              "  <div id=\"df-4613af16-c088-435f-9120-4661fd956c52\" class=\"colab-df-container\">\n",
              "    <div>\n",
              "<style scoped>\n",
              "    .dataframe tbody tr th:only-of-type {\n",
              "        vertical-align: middle;\n",
              "    }\n",
              "\n",
              "    .dataframe tbody tr th {\n",
              "        vertical-align: top;\n",
              "    }\n",
              "\n",
              "    .dataframe thead th {\n",
              "        text-align: right;\n",
              "    }\n",
              "</style>\n",
              "<table border=\"1\" class=\"dataframe\">\n",
              "  <thead>\n",
              "    <tr style=\"text-align: right;\">\n",
              "      <th></th>\n",
              "      <th>team</th>\n",
              "      <th>avg_wins</th>\n",
              "      <th>p10_wins</th>\n",
              "      <th>p50_wins</th>\n",
              "      <th>p90_wins</th>\n",
              "    </tr>\n",
              "  </thead>\n",
              "  <tbody>\n",
              "    <tr>\n",
              "      <th>KC</th>\n",
              "      <td>KC</td>\n",
              "      <td>17.6480</td>\n",
              "      <td>16.0</td>\n",
              "      <td>18.0</td>\n",
              "      <td>19.0</td>\n",
              "    </tr>\n",
              "    <tr>\n",
              "      <th>BUF</th>\n",
              "      <td>BUF</td>\n",
              "      <td>14.6610</td>\n",
              "      <td>13.0</td>\n",
              "      <td>15.0</td>\n",
              "      <td>16.0</td>\n",
              "    </tr>\n",
              "    <tr>\n",
              "      <th>SF</th>\n",
              "      <td>SF</td>\n",
              "      <td>14.2700</td>\n",
              "      <td>12.0</td>\n",
              "      <td>14.0</td>\n",
              "      <td>16.0</td>\n",
              "    </tr>\n",
              "    <tr>\n",
              "      <th>MIA</th>\n",
              "      <td>MIA</td>\n",
              "      <td>12.2915</td>\n",
              "      <td>11.0</td>\n",
              "      <td>12.0</td>\n",
              "      <td>14.0</td>\n",
              "    </tr>\n",
              "    <tr>\n",
              "      <th>BAL</th>\n",
              "      <td>BAL</td>\n",
              "      <td>11.9215</td>\n",
              "      <td>10.0</td>\n",
              "      <td>12.0</td>\n",
              "      <td>14.0</td>\n",
              "    </tr>\n",
              "    <tr>\n",
              "      <th>DAL</th>\n",
              "      <td>DAL</td>\n",
              "      <td>11.6755</td>\n",
              "      <td>10.0</td>\n",
              "      <td>12.0</td>\n",
              "      <td>13.0</td>\n",
              "    </tr>\n",
              "    <tr>\n",
              "      <th>DET</th>\n",
              "      <td>DET</td>\n",
              "      <td>11.6505</td>\n",
              "      <td>10.0</td>\n",
              "      <td>12.0</td>\n",
              "      <td>14.0</td>\n",
              "    </tr>\n",
              "    <tr>\n",
              "      <th>PHI</th>\n",
              "      <td>PHI</td>\n",
              "      <td>11.2770</td>\n",
              "      <td>9.0</td>\n",
              "      <td>11.0</td>\n",
              "      <td>13.0</td>\n",
              "    </tr>\n",
              "    <tr>\n",
              "      <th>NO</th>\n",
              "      <td>NO</td>\n",
              "      <td>10.9795</td>\n",
              "      <td>9.0</td>\n",
              "      <td>11.0</td>\n",
              "      <td>13.0</td>\n",
              "    </tr>\n",
              "    <tr>\n",
              "      <th>GB</th>\n",
              "      <td>GB</td>\n",
              "      <td>10.6970</td>\n",
              "      <td>9.0</td>\n",
              "      <td>11.0</td>\n",
              "      <td>13.0</td>\n",
              "    </tr>\n",
              "  </tbody>\n",
              "</table>\n",
              "</div>\n",
              "    <div class=\"colab-df-buttons\">\n",
              "\n",
              "  <div class=\"colab-df-container\">\n",
              "    <button class=\"colab-df-convert\" onclick=\"convertToInteractive('df-4613af16-c088-435f-9120-4661fd956c52')\"\n",
              "            title=\"Convert this dataframe to an interactive table.\"\n",
              "            style=\"display:none;\">\n",
              "\n",
              "  <svg xmlns=\"http://www.w3.org/2000/svg\" height=\"24px\" viewBox=\"0 -960 960 960\">\n",
              "    <path d=\"M120-120v-720h720v720H120Zm60-500h600v-160H180v160Zm220 220h160v-160H400v160Zm0 220h160v-160H400v160ZM180-400h160v-160H180v160Zm440 0h160v-160H620v160ZM180-180h160v-160H180v160Zm440 0h160v-160H620v160Z\"/>\n",
              "  </svg>\n",
              "    </button>\n",
              "\n",
              "  <style>\n",
              "    .colab-df-container {\n",
              "      display:flex;\n",
              "      gap: 12px;\n",
              "    }\n",
              "\n",
              "    .colab-df-convert {\n",
              "      background-color: #E8F0FE;\n",
              "      border: none;\n",
              "      border-radius: 50%;\n",
              "      cursor: pointer;\n",
              "      display: none;\n",
              "      fill: #1967D2;\n",
              "      height: 32px;\n",
              "      padding: 0 0 0 0;\n",
              "      width: 32px;\n",
              "    }\n",
              "\n",
              "    .colab-df-convert:hover {\n",
              "      background-color: #E2EBFA;\n",
              "      box-shadow: 0px 1px 2px rgba(60, 64, 67, 0.3), 0px 1px 3px 1px rgba(60, 64, 67, 0.15);\n",
              "      fill: #174EA6;\n",
              "    }\n",
              "\n",
              "    .colab-df-buttons div {\n",
              "      margin-bottom: 4px;\n",
              "    }\n",
              "\n",
              "    [theme=dark] .colab-df-convert {\n",
              "      background-color: #3B4455;\n",
              "      fill: #D2E3FC;\n",
              "    }\n",
              "\n",
              "    [theme=dark] .colab-df-convert:hover {\n",
              "      background-color: #434B5C;\n",
              "      box-shadow: 0px 1px 3px 1px rgba(0, 0, 0, 0.15);\n",
              "      filter: drop-shadow(0px 1px 2px rgba(0, 0, 0, 0.3));\n",
              "      fill: #FFFFFF;\n",
              "    }\n",
              "  </style>\n",
              "\n",
              "    <script>\n",
              "      const buttonEl =\n",
              "        document.querySelector('#df-4613af16-c088-435f-9120-4661fd956c52 button.colab-df-convert');\n",
              "      buttonEl.style.display =\n",
              "        google.colab.kernel.accessAllowed ? 'block' : 'none';\n",
              "\n",
              "      async function convertToInteractive(key) {\n",
              "        const element = document.querySelector('#df-4613af16-c088-435f-9120-4661fd956c52');\n",
              "        const dataTable =\n",
              "          await google.colab.kernel.invokeFunction('convertToInteractive',\n",
              "                                                    [key], {});\n",
              "        if (!dataTable) return;\n",
              "\n",
              "        const docLinkHtml = 'Like what you see? Visit the ' +\n",
              "          '<a target=\"_blank\" href=https://colab.research.google.com/notebooks/data_table.ipynb>data table notebook</a>'\n",
              "          + ' to learn more about interactive tables.';\n",
              "        element.innerHTML = '';\n",
              "        dataTable['output_type'] = 'display_data';\n",
              "        await google.colab.output.renderOutput(dataTable, element);\n",
              "        const docLink = document.createElement('div');\n",
              "        docLink.innerHTML = docLinkHtml;\n",
              "        element.appendChild(docLink);\n",
              "      }\n",
              "    </script>\n",
              "  </div>\n",
              "\n",
              "\n",
              "    <div id=\"df-8ece6f38-df2e-4c60-a0dc-eae6bab69c75\">\n",
              "      <button class=\"colab-df-quickchart\" onclick=\"quickchart('df-8ece6f38-df2e-4c60-a0dc-eae6bab69c75')\"\n",
              "                title=\"Suggest charts\"\n",
              "                style=\"display:none;\">\n",
              "\n",
              "<svg xmlns=\"http://www.w3.org/2000/svg\" height=\"24px\"viewBox=\"0 0 24 24\"\n",
              "     width=\"24px\">\n",
              "    <g>\n",
              "        <path d=\"M19 3H5c-1.1 0-2 .9-2 2v14c0 1.1.9 2 2 2h14c1.1 0 2-.9 2-2V5c0-1.1-.9-2-2-2zM9 17H7v-7h2v7zm4 0h-2V7h2v10zm4 0h-2v-4h2v4z\"/>\n",
              "    </g>\n",
              "</svg>\n",
              "      </button>\n",
              "\n",
              "<style>\n",
              "  .colab-df-quickchart {\n",
              "      --bg-color: #E8F0FE;\n",
              "      --fill-color: #1967D2;\n",
              "      --hover-bg-color: #E2EBFA;\n",
              "      --hover-fill-color: #174EA6;\n",
              "      --disabled-fill-color: #AAA;\n",
              "      --disabled-bg-color: #DDD;\n",
              "  }\n",
              "\n",
              "  [theme=dark] .colab-df-quickchart {\n",
              "      --bg-color: #3B4455;\n",
              "      --fill-color: #D2E3FC;\n",
              "      --hover-bg-color: #434B5C;\n",
              "      --hover-fill-color: #FFFFFF;\n",
              "      --disabled-bg-color: #3B4455;\n",
              "      --disabled-fill-color: #666;\n",
              "  }\n",
              "\n",
              "  .colab-df-quickchart {\n",
              "    background-color: var(--bg-color);\n",
              "    border: none;\n",
              "    border-radius: 50%;\n",
              "    cursor: pointer;\n",
              "    display: none;\n",
              "    fill: var(--fill-color);\n",
              "    height: 32px;\n",
              "    padding: 0;\n",
              "    width: 32px;\n",
              "  }\n",
              "\n",
              "  .colab-df-quickchart:hover {\n",
              "    background-color: var(--hover-bg-color);\n",
              "    box-shadow: 0 1px 2px rgba(60, 64, 67, 0.3), 0 1px 3px 1px rgba(60, 64, 67, 0.15);\n",
              "    fill: var(--button-hover-fill-color);\n",
              "  }\n",
              "\n",
              "  .colab-df-quickchart-complete:disabled,\n",
              "  .colab-df-quickchart-complete:disabled:hover {\n",
              "    background-color: var(--disabled-bg-color);\n",
              "    fill: var(--disabled-fill-color);\n",
              "    box-shadow: none;\n",
              "  }\n",
              "\n",
              "  .colab-df-spinner {\n",
              "    border: 2px solid var(--fill-color);\n",
              "    border-color: transparent;\n",
              "    border-bottom-color: var(--fill-color);\n",
              "    animation:\n",
              "      spin 1s steps(1) infinite;\n",
              "  }\n",
              "\n",
              "  @keyframes spin {\n",
              "    0% {\n",
              "      border-color: transparent;\n",
              "      border-bottom-color: var(--fill-color);\n",
              "      border-left-color: var(--fill-color);\n",
              "    }\n",
              "    20% {\n",
              "      border-color: transparent;\n",
              "      border-left-color: var(--fill-color);\n",
              "      border-top-color: var(--fill-color);\n",
              "    }\n",
              "    30% {\n",
              "      border-color: transparent;\n",
              "      border-left-color: var(--fill-color);\n",
              "      border-top-color: var(--fill-color);\n",
              "      border-right-color: var(--fill-color);\n",
              "    }\n",
              "    40% {\n",
              "      border-color: transparent;\n",
              "      border-right-color: var(--fill-color);\n",
              "      border-top-color: var(--fill-color);\n",
              "    }\n",
              "    60% {\n",
              "      border-color: transparent;\n",
              "      border-right-color: var(--fill-color);\n",
              "    }\n",
              "    80% {\n",
              "      border-color: transparent;\n",
              "      border-right-color: var(--fill-color);\n",
              "      border-bottom-color: var(--fill-color);\n",
              "    }\n",
              "    90% {\n",
              "      border-color: transparent;\n",
              "      border-bottom-color: var(--fill-color);\n",
              "    }\n",
              "  }\n",
              "</style>\n",
              "\n",
              "      <script>\n",
              "        async function quickchart(key) {\n",
              "          const quickchartButtonEl =\n",
              "            document.querySelector('#' + key + ' button');\n",
              "          quickchartButtonEl.disabled = true;  // To prevent multiple clicks.\n",
              "          quickchartButtonEl.classList.add('colab-df-spinner');\n",
              "          try {\n",
              "            const charts = await google.colab.kernel.invokeFunction(\n",
              "                'suggestCharts', [key], {});\n",
              "          } catch (error) {\n",
              "            console.error('Error during call to suggestCharts:', error);\n",
              "          }\n",
              "          quickchartButtonEl.classList.remove('colab-df-spinner');\n",
              "          quickchartButtonEl.classList.add('colab-df-quickchart-complete');\n",
              "        }\n",
              "        (() => {\n",
              "          let quickchartButtonEl =\n",
              "            document.querySelector('#df-8ece6f38-df2e-4c60-a0dc-eae6bab69c75 button');\n",
              "          quickchartButtonEl.style.display =\n",
              "            google.colab.kernel.accessAllowed ? 'block' : 'none';\n",
              "        })();\n",
              "      </script>\n",
              "    </div>\n",
              "\n",
              "    </div>\n",
              "  </div>\n"
            ],
            "application/vnd.google.colaboratory.intrinsic+json": {
              "type": "dataframe",
              "variable_name": "season_summary",
              "summary": "{\n  \"name\": \"season_summary\",\n  \"rows\": 32,\n  \"fields\": [\n    {\n      \"column\": \"team\",\n      \"properties\": {\n        \"dtype\": \"string\",\n        \"num_unique_values\": 32,\n        \"samples\": [\n          \"ARI\",\n          \"JAX\",\n          \"DEN\"\n        ],\n        \"semantic_type\": \"\",\n        \"description\": \"\"\n      }\n    },\n    {\n      \"column\": \"avg_wins\",\n      \"properties\": {\n        \"dtype\": \"number\",\n        \"std\": 3.122157708711159,\n        \"min\": 4.128,\n        \"max\": 17.648,\n        \"num_unique_values\": 32,\n        \"samples\": [\n          5.1995,\n          8.4935,\n          6.67\n        ],\n        \"semantic_type\": \"\",\n        \"description\": \"\"\n      }\n    },\n    {\n      \"column\": \"p10_wins\",\n      \"properties\": {\n        \"dtype\": \"number\",\n        \"std\": 3.2018628020616067,\n        \"min\": 2.0,\n        \"max\": 16.0,\n        \"num_unique_values\": 14,\n        \"samples\": [\n          6.0,\n          4.0,\n          16.0\n        ],\n        \"semantic_type\": \"\",\n        \"description\": \"\"\n      }\n    },\n    {\n      \"column\": \"p50_wins\",\n      \"properties\": {\n        \"dtype\": \"number\",\n        \"std\": 3.20030240506596,\n        \"min\": 4.0,\n        \"max\": 18.0,\n        \"num_unique_values\": 11,\n        \"samples\": [\n          9.0,\n          18.0,\n          5.0\n        ],\n        \"semantic_type\": \"\",\n        \"description\": \"\"\n      }\n    },\n    {\n      \"column\": \"p90_wins\",\n      \"properties\": {\n        \"dtype\": \"number\",\n        \"std\": 3.0314214700421083,\n        \"min\": 6.0,\n        \"max\": 19.0,\n        \"num_unique_values\": 10,\n        \"samples\": [\n          7.0,\n          16.0,\n          10.0\n        ],\n        \"semantic_type\": \"\",\n        \"description\": \"\"\n      }\n    }\n  ]\n}"
            }
          },
          "metadata": {},
          "execution_count": 9
        }
      ]
    },
    {
      "cell_type": "code",
      "source": [
        "project_id = \"daring-emitter-469314-f5\"\n",
        "dataset = \"nfl\"\n",
        "table = \"pbp_2019_2023\"\n",
        "\n",
        "# create dataset once (idempotent)\n",
        "bq = bigquery.Client(project=project_id)\n",
        "dataset_ref = bigquery.Dataset(f\"{project_id}.{dataset}\")\n",
        "try:\n",
        "    bq.get_dataset(dataset_ref)\n",
        "except Exception:\n",
        "    bq.create_dataset(dataset_ref)\n",
        "\n",
        "# write data\n",
        "pandas_gbq.to_gbq(pbp, f\"{dataset}.{table}\", project_id=project_id, if_exists=\"replace\")\n"
      ],
      "metadata": {
        "colab": {
          "base_uri": "https://localhost:8080/"
        },
        "id": "2UA5i4XLEjav",
        "executionInfo": {
          "status": "ok",
          "timestamp": 1755527359846,
          "user_tz": 360,
          "elapsed": 24285,
          "user": {
            "displayName": "",
            "userId": ""
          }
        },
        "outputId": "197fc912-df3e-4b28-8692-dcad44c96062"
      },
      "id": "2UA5i4XLEjav",
      "execution_count": 10,
      "outputs": [
        {
          "output_type": "stream",
          "name": "stderr",
          "text": [
            "100%|██████████| 1/1 [00:00<00:00, 7516.67it/s]\n"
          ]
        }
      ]
    },
    {
      "cell_type": "code",
      "source": [],
      "metadata": {
        "id": "4ahDWy0ETty_"
      },
      "id": "4ahDWy0ETty_",
      "execution_count": null,
      "outputs": []
    }
  ],
  "metadata": {
    "kernelspec": {
      "display_name": "Python 3",
      "language": "python",
      "name": "python3"
    },
    "language_info": {
      "codemirror_mode": {
        "name": "ipython",
        "version": 3
      },
      "file_extension": ".py",
      "mimetype": "text/x-python",
      "name": "python",
      "nbconvert_exporter": "python",
      "pygments_lexer": "ipython3",
      "version": "3.10.10"
    },
    "colab": {
      "provenance": [],
      "name": "npessner (Aug 17, 2025, 9:17:55 AM)"
    }
  },
  "nbformat": 4,
  "nbformat_minor": 5
}